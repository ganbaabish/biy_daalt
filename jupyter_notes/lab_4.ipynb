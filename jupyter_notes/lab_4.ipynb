{
 "cells": [
  {
   "cell_type": "markdown",
   "metadata": {},
   "source": [
    "4.1 Харагдаж буй үр дүнг гаргахын тулд sep, end түлхүүр үгүүдийг\n",
    "ашиглан кодыг засварла.\n",
    " print(\"Programming\",\"Essentials\",\"in\")\n",
    " print(\"Python\")\n",
    "Үр дүн:\n",
    "Programming***Essentials***in...Python\n",
    "print(\"Monty Python.\")"
   ]
  },
  {
   "cell_type": "code",
   "execution_count": 1,
   "metadata": {},
   "outputs": [
    {
     "name": "stdout",
     "output_type": "stream",
     "text": [
      "Programming***Essentials***in...Python\n"
     ]
    }
   ],
   "source": [
    "print(\"Programming\",\"Essentials\",\"in\", sep=\"***\", end=\"...\")  \n",
    "print(\"Python\")"
   ]
  },
  {
   "cell_type": "markdown",
   "metadata": {},
   "source": [
    "4.2 Ажлын эхлэх цаг, үргэлжлэх хугацаа (минутаар) өгөгдөв.\n",
    "Дуусах цагийг олох программ зохио.\n",
    "Жишээ нь: 12:17 минут. Үйл ажиллагаа 59 минут үргэлжилсэн\n",
    "бол 13:16 минутад дуусна.\n",
    "hour = int(input(\"Starting time (hours): \"))\n",
    "mins = int(input(\"Starting time (minutes): \"))\n",
    "dura = int(input(\"Event duration (minutes): \"))"
   ]
  },
  {
   "cell_type": "code",
   "execution_count": 2,
   "metadata": {},
   "outputs": [
    {
     "name": "stdout",
     "output_type": "stream",
     "text": [
      "Starting time (hours): 22\n",
      "Starting time (minutes): 53\n",
      "Event duration (minutes): 66\n",
      "23 hours 59 minutes\n"
     ]
    }
   ],
   "source": [
    "hour = int(input(\"Starting time (hours): \"))  \n",
    "mins = int(input(\"Starting time (minutes): \"))  \n",
    "dura = int(input(\"Event duration (minutes): \"))\n",
    "\n",
    "starting_minute = hour*60+mins\n",
    "\n",
    "ending_minut = starting_minute+dura\n",
    "\n",
    "if int(ending_minut/1440)>0:\n",
    "    print(int(ending_minut/1440), 'days', int(ending_minut%1440/60), 'hours', int(ending_minut%60), 'minutes')\n",
    "else:\n",
    "    print(int(ending_minut/60), 'hours', int(ending_minut%60), 'minutes')"
   ]
  },
  {
   "cell_type": "markdown",
   "metadata": {},
   "source": [
    "4.3 2 тооны нийлбэрийг ол."
   ]
  },
  {
   "cell_type": "code",
   "execution_count": 3,
   "metadata": {},
   "outputs": [
    {
     "name": "stdout",
     "output_type": "stream",
     "text": [
      "Insert 1st num: 5\n",
      "Insert 2nd num: 6\n",
      "11\n"
     ]
    }
   ],
   "source": [
    "a = int(input('Insert 1st num: '))\n",
    "b = int(input('Insert 2nd num: '))\n",
    "\n",
    "print(a+b)"
   ]
  },
  {
   "cell_type": "markdown",
   "metadata": {},
   "source": [
    "4.4 Өгөгдсөн 3 оронтой тооны цифрүүдийн нийлбэрийг ол."
   ]
  },
  {
   "cell_type": "code",
   "execution_count": 4,
   "metadata": {},
   "outputs": [
    {
     "name": "stdout",
     "output_type": "stream",
     "text": [
      "3 orontoi toog oruul: 454\n",
      "13\n"
     ]
    }
   ],
   "source": [
    "a = 0\n",
    "while a<100 or a>999:\n",
    "    a = int(input('3 orontoi toog oruul: '))\n",
    "\n",
    "sum = 0\n",
    "for i in str(a):\n",
    "    sum = sum + int(i)\n",
    "\n",
    "print(sum)"
   ]
  },
  {
   "cell_type": "markdown",
   "metadata": {},
   "source": [
    "4.5 Өгөгдсөн секундыг минут секунд болго."
   ]
  },
  {
   "cell_type": "code",
   "execution_count": 5,
   "metadata": {},
   "outputs": [
    {
     "name": "stdout",
     "output_type": "stream",
     "text": [
      "secund oruul: 99\n",
      "1 minutes 39 seconds\n"
     ]
    }
   ],
   "source": [
    "seconds = int(input('secund oruul: '))\n",
    "\n",
    "print(int(seconds/60), 'minutes', int(seconds%60), 'seconds')"
   ]
  },
  {
   "cell_type": "markdown",
   "metadata": {},
   "source": [
    "4.6 Өгөгдсөн кубын эзэлхүүн ба гүйцэд гадаргуугийн талбайг ол."
   ]
  },
  {
   "cell_type": "code",
   "execution_count": 6,
   "metadata": {},
   "outputs": [
    {
     "name": "stdout",
     "output_type": "stream",
     "text": [
      "tal oruul:3\n",
      "Ezlehuun:  27.0\n",
      "Guitset talbai:  54.0\n"
     ]
    }
   ],
   "source": [
    "a = float(input('tal oruul:'))\n",
    "\n",
    "print('Ezlehuun: ', a**3)\n",
    "print('Guitset talbai: ', a**2*6)"
   ]
  },
  {
   "cell_type": "markdown",
   "metadata": {},
   "source": [
    "4.7 Өгөгдсөн цагийг хоног цагт шилжүүл."
   ]
  },
  {
   "cell_type": "code",
   "execution_count": 7,
   "metadata": {},
   "outputs": [
    {
     "name": "stdout",
     "output_type": "stream",
     "text": [
      "Tsag oruul: 36\n",
      "1 odor\n"
     ]
    }
   ],
   "source": [
    "hours = int(input('Tsag oruul: '))\n",
    "\n",
    "print(int(hours/24), 'odor')"
   ]
  },
  {
   "cell_type": "markdown",
   "metadata": {},
   "source": [
    "4.8 Өгөгдсөн 2 бүхэл тооны арифметик дунджийг ол."
   ]
  },
  {
   "cell_type": "code",
   "execution_count": 8,
   "metadata": {},
   "outputs": [
    {
     "name": "stdout",
     "output_type": "stream",
     "text": [
      "Ehnii toog oruul: 15\n",
      "Daraagiin toog oruul: 37\n",
      "26\n"
     ]
    }
   ],
   "source": [
    "first = int(input('Ehnii toog oruul: '))\n",
    "second = int(input('Daraagiin toog oruul: '))\n",
    "\n",
    "print(int((first+second)/2))"
   ]
  },
  {
   "cell_type": "markdown",
   "metadata": {},
   "source": [
    "4.9 Өгөгдсөн илэрхийллийн утгыг ол. A = B * C / D"
   ]
  },
  {
   "cell_type": "code",
   "execution_count": 10,
   "metadata": {},
   "outputs": [
    {
     "name": "stdout",
     "output_type": "stream",
     "text": [
      "B тоог оруул: 10\n",
      "C тоог оруул: 2\n",
      "D тоог оруул: 5\n",
      "A = 4.0\n"
     ]
    }
   ],
   "source": [
    "B, C, D = int(input('B тоог оруул: ')), int(input('C тоог оруул: ')), int(input('D тоог оруул: '))\n",
    "\n",
    "A = B * C / D \n",
    "print('A =', A)"
   ]
  },
  {
   "cell_type": "markdown",
   "metadata": {},
   "source": [
    "4.10 Өгөгдсөн тооны аравтын орны цифрийг ол"
   ]
  },
  {
   "cell_type": "code",
   "execution_count": 12,
   "metadata": {},
   "outputs": [
    {
     "name": "stdout",
     "output_type": "stream",
     "text": [
      "Insert number: 25\n",
      "result: 2\n"
     ]
    }
   ],
   "source": [
    "num = float(input('Insert number: '))\n",
    "\n",
    "print('result:', int(num%100/10))"
   ]
  },
  {
   "cell_type": "markdown",
   "metadata": {},
   "source": [
    "4.11 2-ын n зэргийг ол.\n"
   ]
  },
  {
   "cell_type": "code",
   "execution_count": 13,
   "metadata": {},
   "outputs": [
    {
     "name": "stdout",
     "output_type": "stream",
     "text": [
      "Zereg oloh too: 5\n",
      "32\n"
     ]
    }
   ],
   "source": [
    "n = int(input('Zereg oloh too: '))\n",
    "print(2**n)"
   ]
  },
  {
   "cell_type": "markdown",
   "metadata": {},
   "source": [
    "4.12 y = 3*x^3 - 2*x^2 + 3x – 1 илэрхийллийн утгыг ол.\n"
   ]
  },
  {
   "cell_type": "code",
   "execution_count": 14,
   "metadata": {},
   "outputs": [
    {
     "name": "stdout",
     "output_type": "stream",
     "text": [
      "Insert number: 2\n",
      "y = 37.0\n"
     ]
    }
   ],
   "source": [
    "x = float(input('Insert number: '))\n",
    "\n",
    "y = x**3*3 + x**2*2 + x*3 - 1\n",
    "print('y =',y)"
   ]
  },
  {
   "cell_type": "code",
   "execution_count": null,
   "metadata": {},
   "outputs": [],
   "source": []
  }
 ],
 "metadata": {
  "kernelspec": {
   "display_name": "Python 3 (ipykernel)",
   "language": "python",
   "name": "python3"
  },
  "language_info": {
   "codemirror_mode": {
    "name": "ipython",
    "version": 3
   },
   "file_extension": ".py",
   "mimetype": "text/x-python",
   "name": "python",
   "nbconvert_exporter": "python",
   "pygments_lexer": "ipython3",
   "version": "3.8.0"
  },
  "vscode": {
   "interpreter": {
    "hash": "438727c8858bc46e257ba69863512eb04c8e9f5db9a1c7102296af502b4092eb"
   }
  }
 },
 "nbformat": 4,
 "nbformat_minor": 2
}
