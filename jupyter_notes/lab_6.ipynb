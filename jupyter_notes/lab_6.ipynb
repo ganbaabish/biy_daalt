{
 "cells": [
  {
   "cell_type": "markdown",
   "metadata": {},
   "source": [
    "6.1\tӨгөгдсөн а тоог анхны тоо мөн эсэхийг ол."
   ]
  },
  {
   "cell_type": "code",
   "execution_count": 1,
   "metadata": {},
   "outputs": [
    {
     "name": "stdout",
     "output_type": "stream",
     "text": [
      "toog oruul: 17\n",
      "Anhni too mon\n"
     ]
    }
   ],
   "source": [
    "a = int(input('toog oruul: '))\n",
    "isprime = True\n",
    "\n",
    "for i in range(2, int(a/2)):\n",
    "    if a % i == 0:\n",
    "        isprime = False\n",
    "\n",
    "if isprime:\n",
    "    print('Anhni too mon')\n",
    "else:\n",
    "    print('Anhni too bish')"
   ]
  },
  {
   "cell_type": "markdown",
   "metadata": {},
   "source": [
    "6.2\tӨгөгдсөн n тоо хичнээн оронтой эсэхийг ол."
   ]
  },
  {
   "cell_type": "code",
   "execution_count": 2,
   "metadata": {},
   "outputs": [
    {
     "name": "stdout",
     "output_type": "stream",
     "text": [
      "toog oruul: 2568993\n",
      "7\n"
     ]
    }
   ],
   "source": [
    "a = int(input('toog oruul: '))\n",
    "\n",
    "print(len(str(a)))"
   ]
  },
  {
   "cell_type": "markdown",
   "metadata": {},
   "source": [
    "6.3\tЭхний ба сүүлийн цифр ижил байх тоонуудыг хэвлэ."
   ]
  },
  {
   "cell_type": "code",
   "execution_count": 3,
   "metadata": {},
   "outputs": [
    {
     "name": "stdout",
     "output_type": "stream",
     "text": [
      "101\n",
      "111\n",
      "121\n",
      "131\n",
      "141\n",
      "151\n",
      "161\n",
      "171\n",
      "181\n",
      "191\n",
      "202\n",
      "212\n",
      "222\n",
      "232\n",
      "242\n",
      "252\n",
      "262\n",
      "272\n",
      "282\n",
      "292\n",
      "303\n",
      "313\n",
      "323\n",
      "333\n",
      "343\n",
      "353\n",
      "363\n",
      "373\n",
      "383\n",
      "393\n",
      "404\n",
      "414\n",
      "424\n",
      "434\n",
      "444\n",
      "454\n",
      "464\n",
      "474\n",
      "484\n",
      "494\n",
      "505\n",
      "515\n",
      "525\n",
      "535\n",
      "545\n",
      "555\n",
      "565\n",
      "575\n",
      "585\n",
      "595\n",
      "606\n",
      "616\n",
      "626\n",
      "636\n",
      "646\n",
      "656\n",
      "666\n",
      "676\n",
      "686\n",
      "696\n",
      "707\n",
      "717\n",
      "727\n",
      "737\n",
      "747\n",
      "757\n",
      "767\n",
      "777\n",
      "787\n",
      "797\n",
      "808\n",
      "818\n",
      "828\n",
      "838\n",
      "848\n",
      "858\n",
      "868\n",
      "878\n",
      "888\n",
      "898\n",
      "909\n",
      "919\n",
      "929\n",
      "939\n",
      "949\n",
      "959\n",
      "969\n",
      "979\n",
      "989\n",
      "999\n"
     ]
    }
   ],
   "source": [
    "for i in range(100, 1000):\n",
    "    if str(i)[0] == str(i)[2]:\n",
    "        print(i)"
   ]
  },
  {
   "cell_type": "markdown",
   "metadata": {},
   "source": [
    "6.4\tӨгөгдсөн бүхэл тоо палиндром тоо эсэхийг тодорхойлох. Урд, ардаасаа ижил уншигддаг тоог палиндром тоо гэнэ. Жишээ нь: 121, 456654 гэх мэт."
   ]
  },
  {
   "cell_type": "code",
   "execution_count": 4,
   "metadata": {},
   "outputs": [
    {
     "name": "stdout",
     "output_type": "stream",
     "text": [
      "toog oruul [a>10]: 4654654\n",
      "palindrome bish\n"
     ]
    }
   ],
   "source": [
    "a = 1\n",
    "while a < 10:\n",
    "    a = int(input('toog oruul [a>10]: '))\n",
    "\n",
    "print('palindrome mon' if str(a) == str(a)[::-1] else 'palindrome bish')"
   ]
  },
  {
   "cell_type": "markdown",
   "metadata": {},
   "source": [
    "6.5\t2 суурьтай системд өгсөн тоог 10 суурьтай тооллын системд хөрвүүлэх. "
   ]
  },
  {
   "cell_type": "code",
   "execution_count": 5,
   "metadata": {},
   "outputs": [
    {
     "name": "stdout",
     "output_type": "stream",
     "text": [
      "2tiin too oruul:1001\n",
      "9\n"
     ]
    }
   ],
   "source": [
    "binary = int(input('2tiin too oruul:'))\n",
    "sum = 0\n",
    "temp = len(str(binary))-1\n",
    "for i in str(binary):\n",
    "    sum += int(i)*(2**temp)\n",
    "    temp-=1\n",
    "\n",
    "print(sum)"
   ]
  },
  {
   "cell_type": "markdown",
   "metadata": {},
   "source": [
    "6.6\t16 суурьтай системд өгсөн тоог 10 суурьтай тооллын системд хөрвүүлэх. "
   ]
  },
  {
   "cell_type": "code",
   "execution_count": 6,
   "metadata": {},
   "outputs": [
    {
     "name": "stdout",
     "output_type": "stream",
     "text": [
      "2tiin too oruul:1001\n",
      "9\n"
     ]
    }
   ],
   "source": [
    "hexa = int(input('2tiin too oruul:'), 2)\n",
    "\n",
    "print(hex(hexa)[2])"
   ]
  },
  {
   "cell_type": "markdown",
   "metadata": {},
   "source": [
    "6.7\tФибоначчийн эхний к ширхэг гишүүнийг хэвлэ (Фибоначчийн тоо нь дараах дарааллаас бүрдэнэ: 0, 1, 1, 2, 3, 5, 8, 13, 21, 34, 55, 89, 144, .... Тодорхойлолт ёсоор бол Фибоначчийн тооны эхний 2 тоо нь 0 болон 1 гэж өгөгдсөн ба түүнээс хойшхи Фибоначчийн тоонууд нь өмнөх 2 тооныхоо нийлбэртэй тэнцүү болно)."
   ]
  },
  {
   "cell_type": "code",
   "execution_count": 7,
   "metadata": {},
   "outputs": [
    {
     "name": "stdout",
     "output_type": "stream",
     "text": [
      "Хэдэн ширхэг тоог олохоо оруул(санамж! к тоо нь 2-с их бүхэл тоо байх ёстой): 6\n",
      "0, 1, 1, 2, 3, 5, "
     ]
    }
   ],
   "source": [
    "k = 0\n",
    "\n",
    "while k<2:\n",
    "    k = int(input('Хэдэн ширхэг тоог олохоо оруул(санамж! к тоо нь 2-с их бүхэл тоо байх ёстой): '))\n",
    "\n",
    "first = 0\n",
    "second = 1\n",
    "print('0, 1', end=', ')\n",
    "\n",
    "for i in range(k-2):\n",
    "    print(first+second, end=', ')\n",
    "    temp = second + first\n",
    "    first = second\n",
    "    second = temp"
   ]
  },
  {
   "cell_type": "markdown",
   "metadata": {},
   "source": [
    "6.8\tФибоначчийн к-д хуваагдах хамгийн бага гишүүнийг ол."
   ]
  },
  {
   "cell_type": "code",
   "execution_count": 8,
   "metadata": {},
   "outputs": [
    {
     "name": "stdout",
     "output_type": "stream",
     "text": [
      "к тоог олохоо оруул: 61\n",
      "610\n"
     ]
    }
   ],
   "source": [
    "k = int(input('к тоог олохоо оруул: '))\n",
    "\n",
    "first = 0\n",
    "second = 1\n",
    "\n",
    "while True:\n",
    "    temp = second + first\n",
    "    if temp % k == 0:\n",
    "        print(temp)\n",
    "        break\n",
    "    first = second\n",
    "    second = temp"
   ]
  },
  {
   "cell_type": "markdown",
   "metadata": {},
   "source": [
    "6.9\tФибоначчийн 3 оронтой бүх гишүүдийг хэвлэ."
   ]
  },
  {
   "cell_type": "code",
   "execution_count": 9,
   "metadata": {},
   "outputs": [
    {
     "name": "stdout",
     "output_type": "stream",
     "text": [
      "144\n",
      "233\n",
      "377\n",
      "610\n",
      "987\n"
     ]
    }
   ],
   "source": [
    "first = 0\n",
    "second = 1\n",
    "temp = 0\n",
    "while temp<1000:\n",
    "    if temp > 100:\n",
    "        print(temp)\n",
    "    temp = second + first\n",
    "    first = second\n",
    "    second = temp"
   ]
  },
  {
   "cell_type": "markdown",
   "metadata": {},
   "source": [
    "6.10\t[a,b] завсар дах хөрвөсөн тооноосоо их байх тоонуудыг хэвлэ."
   ]
  },
  {
   "cell_type": "code",
   "execution_count": 10,
   "metadata": {},
   "outputs": [
    {
     "name": "stdout",
     "output_type": "stream",
     "text": [
      "a toog oruul: 10\n",
      "b toog oruul: 35\n",
      "10\n",
      "20\n",
      "21\n",
      "30\n",
      "31\n",
      "32\n"
     ]
    }
   ],
   "source": [
    "a = int(input('a toog oruul: '))\n",
    "b = int(input('b toog oruul: '))\n",
    "\n",
    "for i in range(a, b+1):\n",
    "    if i > int(str(i)[::-1]):\n",
    "        print(i)"
   ]
  },
  {
   "cell_type": "markdown",
   "metadata": {},
   "source": [
    "6.11\t[a,b] завсар дах хөрвөсөн тооноосоо бага байх тоонуудыг хэвлэ."
   ]
  },
  {
   "cell_type": "code",
   "execution_count": 11,
   "metadata": {},
   "outputs": [
    {
     "name": "stdout",
     "output_type": "stream",
     "text": [
      "a toog oruul: 10\n",
      "b toog oruul: 35\n",
      "12\n",
      "13\n",
      "14\n",
      "15\n",
      "16\n",
      "17\n",
      "18\n",
      "19\n",
      "23\n",
      "24\n",
      "25\n",
      "26\n",
      "27\n",
      "28\n",
      "29\n",
      "34\n",
      "35\n"
     ]
    }
   ],
   "source": [
    "a = int(input('a toog oruul: '))\n",
    "b = int(input('b toog oruul: '))\n",
    "\n",
    "for i in range(a, b+1):\n",
    "    if i < int(str(i)[::-1]):\n",
    "        print(i)"
   ]
  },
  {
   "cell_type": "markdown",
   "metadata": {},
   "source": [
    "6.12\t[a,b] завсар дах тоонууд дотроос \n",
    "а. К тооны тэгш (сондгой ) цифр агуулсан \n",
    "б. Бүх цифр нь тэгш (сондгой ) байх тоонуудыг хэвлэх. "
   ]
  },
  {
   "cell_type": "markdown",
   "metadata": {},
   "source": [
    "     a"
   ]
  },
  {
   "cell_type": "code",
   "execution_count": 12,
   "metadata": {},
   "outputs": [
    {
     "name": "stdout",
     "output_type": "stream",
     "text": [
      "a toog oruul: 10\n",
      "b toog oruul: 35\n",
      "k toog oruul: 10\n"
     ]
    }
   ],
   "source": [
    "a = int(input('a toog oruul: '))\n",
    "b = int(input('b toog oruul: '))\n",
    "k = int(input('k toog oruul: '))\n",
    "\n",
    "if a>b:\n",
    "    temp = b\n",
    "    b=a\n",
    "    a=temp\n",
    "\n",
    "for i in range(a, b+1):\n",
    "    sum = 0\n",
    "    for j in str(i):\n",
    "        if int(j)%2==0:\n",
    "            sum+=1\n",
    "    if sum == k:\n",
    "        print('k tooni tegsh cipr aguulsan:', i)\n",
    "    if len(str(i))-sum == k:\n",
    "        print('k tooni sondgoi cipr aguulsan:', i)"
   ]
  },
  {
   "cell_type": "markdown",
   "metadata": {},
   "source": [
    "     b"
   ]
  },
  {
   "cell_type": "code",
   "execution_count": 13,
   "metadata": {},
   "outputs": [
    {
     "name": "stdout",
     "output_type": "stream",
     "text": [
      "a toog oruul: 10\n",
      "b toog oruul: 20\n",
      "Buh cipr ni sondgoi 11\n",
      "Buh cipr ni sondgoi 13\n",
      "Buh cipr ni sondgoi 15\n",
      "Buh cipr ni sondgoi 17\n",
      "Buh cipr ni sondgoi 19\n",
      "Buh cipr ni tegsh: 20\n"
     ]
    }
   ],
   "source": [
    "a = int(input('a toog oruul: '))\n",
    "b = int(input('b toog oruul: '))\n",
    "\n",
    "if a>b:\n",
    "    temp = b\n",
    "    b=a\n",
    "    a=temp\n",
    "\n",
    "for i in range(a, b+1):\n",
    "    isEven = True\n",
    "    isOdd = True\n",
    "    for j in str(i):\n",
    "        if int(j) % 2 == 0:\n",
    "            isOdd = False\n",
    "            continue\n",
    "        isEven = False\n",
    "    for j in str(i):\n",
    "        if int(j) % 2 == 1:\n",
    "            isEven = False\n",
    "            continue\n",
    "        isOdd = False\n",
    "    if isEven:\n",
    "        print('Buh cipr ni tegsh:', i)\n",
    "    elif isOdd:\n",
    "        print('Buh cipr ni sondgoi', i)\n",
    "    "
   ]
  }
 ],
 "metadata": {
  "kernelspec": {
   "display_name": "Python 3 (ipykernel)",
   "language": "python",
   "name": "python3"
  },
  "language_info": {
   "codemirror_mode": {
    "name": "ipython",
    "version": 3
   },
   "file_extension": ".py",
   "mimetype": "text/x-python",
   "name": "python",
   "nbconvert_exporter": "python",
   "pygments_lexer": "ipython3",
   "version": "3.8.0"
  },
  "vscode": {
   "interpreter": {
    "hash": "438727c8858bc46e257ba69863512eb04c8e9f5db9a1c7102296af502b4092eb"
   }
  }
 },
 "nbformat": 4,
 "nbformat_minor": 2
}
