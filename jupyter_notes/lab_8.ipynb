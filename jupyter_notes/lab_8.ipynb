{
 "cells": [
  {
   "cell_type": "code",
   "execution_count": 1,
   "metadata": {},
   "outputs": [],
   "source": [
    "import os"
   ]
  },
  {
   "cell_type": "markdown",
   "metadata": {},
   "source": [
    "8.1.\tНэг файлын агуулгыг нөгөө файлд хуулах код бич."
   ]
  },
  {
   "cell_type": "code",
   "execution_count": 2,
   "metadata": {},
   "outputs": [
    {
     "data": {
      "text/plain": [
       "0"
      ]
     },
     "execution_count": 2,
     "metadata": {},
     "output_type": "execute_result"
    }
   ],
   "source": [
    "file_1 = open('./assets/sample_1.txt', 'r')\n",
    "content = file_1.read()\n",
    "\n",
    "file_2 = open('./assets/sample_2.txt', 'w')\n",
    "file_2.write(content)"
   ]
  },
  {
   "cell_type": "markdown",
   "metadata": {},
   "source": [
    "8.2.\tФайл дахь үг бүрийн эхний тэмдэгтийг томоор бичих код бич."
   ]
  },
  {
   "cell_type": "code",
   "execution_count": 3,
   "metadata": {},
   "outputs": [
    {
     "name": "stdout",
     "output_type": "stream",
     "text": [
      "['Text txt\\n', 'Text1\\n', 'Text2 aaa']\n"
     ]
    }
   ],
   "source": [
    "f = open(\"./assets/sample.txt\", \"r\")\n",
    "content = f.readlines()\n",
    "print(content)\n",
    "f.close()\n",
    "f = open(\"./assets/sample.txt\", \"w\")\n",
    "temp = []\n",
    "for line in content:\n",
    "    temp.append(line.capitalize())\n",
    "\n",
    "f.writelines(temp)"
   ]
  },
  {
   "cell_type": "markdown",
   "metadata": {},
   "source": [
    "8.3.\tФайл дахь тэмдэгт бүрийн ASCII утгыг олох код бич."
   ]
  },
  {
   "cell_type": "code",
   "execution_count": 4,
   "metadata": {},
   "outputs": [
    {
     "name": "stdout",
     "output_type": "stream",
     "text": [
      "84\n",
      "101\n",
      "120\n",
      "116\n",
      "32\n",
      "116\n",
      "120\n",
      "116\n",
      "10\n",
      "84\n",
      "101\n",
      "120\n",
      "116\n",
      "49\n",
      "10\n",
      "84\n",
      "101\n",
      "120\n",
      "116\n",
      "50\n",
      "32\n",
      "97\n",
      "97\n",
      "97\n"
     ]
    }
   ],
   "source": [
    "f = open(\"./assets/sample.txt\", \"r\")\n",
    "content = f.readlines()\n",
    "\n",
    "for line in content:\n",
    "    for word in line:\n",
    "        print(ord(word))\n"
   ]
  },
  {
   "cell_type": "markdown",
   "metadata": {},
   "source": [
    "8.4.\tФайл дахь тэмдэгт бүрийн давтамжийг олох код бич."
   ]
  },
  {
   "cell_type": "code",
   "execution_count": 5,
   "metadata": {},
   "outputs": [
    {
     "name": "stdout",
     "output_type": "stream",
     "text": [
      "{'t': 8, 'e': 3, 'x': 4, ' ': 2, '\\n': 2, '1': 1, '2': 1, 'a': 3}\n"
     ]
    }
   ],
   "source": [
    "f = open(\"./assets/sample.txt\", \"r\")\n",
    "ct = {}\n",
    "content = f.read().lower()\n",
    "\n",
    "for char in content:\n",
    "    if char not in ct.keys():\n",
    "        ct[char] = content.count(char)\n",
    "\n",
    "print(ct)"
   ]
  },
  {
   "cell_type": "markdown",
   "metadata": {},
   "source": [
    "8.5.\tТухайн файлд хэрэглэгчийн оруулсан үгийн байрлалыг олох код бич."
   ]
  },
  {
   "cell_type": "code",
   "execution_count": 6,
   "metadata": {},
   "outputs": [
    {
     "name": "stdout",
     "output_type": "stream",
     "text": [
      "ugee oruul: ug\n"
     ]
    }
   ],
   "source": [
    "f = open(\"./assets/sample.txt\", \"r\")\n",
    "word = input('ugee oruul: ')\n",
    "\n",
    "content = f.read()\n",
    "\n",
    "lines = content.split(\"\\n\")\n",
    "\n",
    "column = row = 1\n",
    "isFound = False\n",
    "\n",
    "for line in lines:\n",
    "    text = line.split(\" \")\n",
    "    for txt in text:\n",
    "        if txt == word:\n",
    "            print(column, row)\n",
    "            break\n",
    "        row+=1\n",
    "    if isFound:\n",
    "        break\n",
    "    row = 1\n",
    "    column += 1"
   ]
  },
  {
   "cell_type": "markdown",
   "metadata": {},
   "source": [
    "8.6.\tӨгөгдсөн тэмдэгтийг өөр файлд орлуулах код бич."
   ]
  },
  {
   "cell_type": "code",
   "execution_count": 8,
   "metadata": {},
   "outputs": [
    {
     "name": "stdout",
     "output_type": "stream",
     "text": [
      "Ogogdson temdeg: temtegt\n"
     ]
    },
    {
     "data": {
      "text/plain": [
       "7"
      ]
     },
     "execution_count": 8,
     "metadata": {},
     "output_type": "execute_result"
    }
   ],
   "source": [
    "f = open(\"./assets/sample.txt\", \"a\")\n",
    "\n",
    "word = input(\"Ogogdson temdeg: \")\n",
    "\n",
    "f.write(word)"
   ]
  },
  {
   "cell_type": "markdown",
   "metadata": {},
   "source": [
    "8.7.\tӨгөгдсөн үгийг өөр файлд орлуулах код бич."
   ]
  },
  {
   "cell_type": "code",
   "execution_count": 10,
   "metadata": {},
   "outputs": [
    {
     "name": "stdout",
     "output_type": "stream",
     "text": [
      "Ogogdson ug: temdegt\n"
     ]
    },
    {
     "data": {
      "text/plain": [
       "7"
      ]
     },
     "execution_count": 10,
     "metadata": {},
     "output_type": "execute_result"
    }
   ],
   "source": [
    "f = open(\"./assets/sample.txt\", \"a\")\n",
    "\n",
    "word = input(\"Ogogdson ug: \")\n",
    "\n",
    "f.write(word)"
   ]
  },
  {
   "cell_type": "markdown",
   "metadata": {},
   "source": [
    "8.8.\tФайл дахь өгөгдсөн үгийн давтамжийг олох код бич."
   ]
  },
  {
   "cell_type": "code",
   "execution_count": 11,
   "metadata": {},
   "outputs": [
    {
     "name": "stdout",
     "output_type": "stream",
     "text": [
      "Ogogdson ug: temdegt\n",
      "1\n"
     ]
    }
   ],
   "source": [
    "f = open(\"./assets/sample.txt\", \"r\")\n",
    "\n",
    "word = input(\"Ogogdson ug: \")\n",
    "\n",
    "lines = f.read()\n",
    "\n",
    "print(lines.count(word))"
   ]
  },
  {
   "cell_type": "markdown",
   "metadata": {},
   "source": [
    "8.9.\tТухайн файлд хамгийн бага удаа ашигласан үгийг олох код бич."
   ]
  },
  {
   "cell_type": "code",
   "execution_count": 12,
   "metadata": {},
   "outputs": [
    {
     "name": "stdout",
     "output_type": "stream",
     "text": [
      "char: text , count: 1\n"
     ]
    }
   ],
   "source": [
    "f = open(\"./assets/sample.txt\", \"r\")\n",
    "\n",
    "used = {}\n",
    "\n",
    "content = f.readlines()\n",
    "\n",
    "content = [x.lower() for x in content]\n",
    "content = [x.replace('\\n', '') for x in content]\n",
    "arr = []\n",
    "for word in content:\n",
    "    for txt in word.split(' '):\n",
    "        arr.append(txt)\n",
    "\n",
    "for item in arr:\n",
    "    if item not in used.keys():\n",
    "        used[item] = arr.count(item)\n",
    "\n",
    "min = arr.count(arr[0])\n",
    "for i in used.values():\n",
    "    if min > i:\n",
    "        min = i\n",
    "for key, value in used.items():\n",
    "    if value == min:\n",
    "        print('char:',key,', count:', value)\n",
    "        break"
   ]
  },
  {
   "cell_type": "markdown",
   "metadata": {},
   "source": [
    "8.10.\tФайлын нэрийг хэрэглэгчийн оруулсан нэрээр солих код бич."
   ]
  },
  {
   "cell_type": "code",
   "execution_count": 15,
   "metadata": {},
   "outputs": [
    {
     "name": "stdout",
     "output_type": "stream",
     "text": [
      "ner oruul: saple_txt.txt\n"
     ]
    },
    {
     "ename": "PermissionError",
     "evalue": "[WinError 32] The process cannot access the file because it is being used by another process: './assets/sample.txt' -> './assets/lab8/saple_txt.txt'",
     "output_type": "error",
     "traceback": [
      "\u001b[1;31m---------------------------------------------------------------------------\u001b[0m",
      "\u001b[1;31mPermissionError\u001b[0m                           Traceback (most recent call last)",
      "Cell \u001b[1;32mIn [15], line 5\u001b[0m\n\u001b[0;32m      1\u001b[0m firstname \u001b[38;5;241m=\u001b[39m \u001b[38;5;124m\"\u001b[39m\u001b[38;5;124m./assets/sample.txt\u001b[39m\u001b[38;5;124m\"\u001b[39m\n\u001b[0;32m      3\u001b[0m rename \u001b[38;5;241m=\u001b[39m \u001b[38;5;28minput\u001b[39m(\u001b[38;5;124m'\u001b[39m\u001b[38;5;124mner oruul: \u001b[39m\u001b[38;5;124m'\u001b[39m)\n\u001b[1;32m----> 5\u001b[0m \u001b[43mos\u001b[49m\u001b[38;5;241;43m.\u001b[39;49m\u001b[43mrename\u001b[49m\u001b[43m(\u001b[49m\u001b[43mfirstname\u001b[49m\u001b[43m,\u001b[49m\u001b[43m \u001b[49m\u001b[38;5;124;43m'\u001b[39;49m\u001b[38;5;124;43m./assets/lab8/\u001b[39;49m\u001b[38;5;124;43m'\u001b[39;49m\u001b[38;5;241;43m+\u001b[39;49m\u001b[43mrename\u001b[49m\u001b[43m)\u001b[49m\n",
      "\u001b[1;31mPermissionError\u001b[0m: [WinError 32] The process cannot access the file because it is being used by another process: './assets/sample.txt' -> './assets/lab8/saple_txt.txt'"
     ]
    }
   ],
   "source": [
    "firstname = \"./assets/sample.txt\"\n",
    "\n",
    "rename = input('ner oruul: ')\n",
    "\n",
    "os.rename(firstname, './assets/lab8/'+rename)"
   ]
  },
  {
   "cell_type": "markdown",
   "metadata": {},
   "source": [
    "8.11.\tХавтас үүсгээд түүндээ шинэ файл үүсгээрэй."
   ]
  },
  {
   "cell_type": "code",
   "execution_count": 16,
   "metadata": {},
   "outputs": [
    {
     "data": {
      "text/plain": [
       "<_io.TextIOWrapper name='./assets/assets/created_by_python.py' mode='w' encoding='cp1252'>"
      ]
     },
     "execution_count": 16,
     "metadata": {},
     "output_type": "execute_result"
    }
   ],
   "source": [
    "os.mkdir('./assets/assets')\n",
    "\n",
    "open('./assets/assets/created_by_python.py', 'w')"
   ]
  },
  {
   "cell_type": "markdown",
   "metadata": {},
   "source": [
    "8.12.\tФайлын нэр, тэмдэгтийн тоо, хоосон зайн тоог хэвлэх код бич."
   ]
  },
  {
   "cell_type": "code",
   "execution_count": 17,
   "metadata": {},
   "outputs": [
    {
     "name": "stdout",
     "output_type": "stream",
     "text": [
      "./assets/sample.txt 38 2\n"
     ]
    }
   ],
   "source": [
    "f = open('./assets/sample.txt')\n",
    "\n",
    "content=f.read()\n",
    "\n",
    "print(f.name, len(content), content.count(' '))"
   ]
  },
  {
   "cell_type": "markdown",
   "metadata": {},
   "source": [
    "8.13.\tӨгөгдсөн файлын тэмдэгтүүдийг хоёртын формат руу хөрвүүлэх код бич."
   ]
  },
  {
   "cell_type": "code",
   "execution_count": 18,
   "metadata": {},
   "outputs": [
    {
     "name": "stdout",
     "output_type": "stream",
     "text": [
      "1010100 1100101 1111000 1110100 100000 1110100 1111000 1110100 1010 1010100 1100101 1111000 1110100 110001 1010 1010100 1100101 1111000 1110100 110010 100000 1100001 1100001 1100001 1110100 1100101 1101101 1110100 1100101 1100111 1110100 1110100 1100101 1101101 1100100 1100101 1100111 1110100\n"
     ]
    }
   ],
   "source": [
    "f = open('./assets/sample.txt')\n",
    "\n",
    "content=f.read()\n",
    "\n",
    "print(' '.join(format(ord(x), 'b') for x in content))"
   ]
  },
  {
   "cell_type": "markdown",
   "metadata": {},
   "source": [
    "8.14.\tӨгөгдсөн файлаас эгшгээр эхэлсэн үгсийг олох програм бич.\n"
   ]
  },
  {
   "cell_type": "code",
   "execution_count": 19,
   "metadata": {},
   "outputs": [
    {
     "name": "stdout",
     "output_type": "stream",
     "text": [
      "aaatemtegttemdegt\n"
     ]
    }
   ],
   "source": [
    "f = open('./assets/sample.txt')\n",
    "\n",
    "chars = ['a', 'e', 'i', 'o', 'u']\n",
    "content = f.readlines()\n",
    "\n",
    "content = [x.lower() for x in content]\n",
    "content = [x.replace('\\n', '') for x in content]\n",
    "\n",
    "for word in content:\n",
    "    for txt in word.split(' '):\n",
    "        if txt[0] in chars:\n",
    "            print(txt)"
   ]
  },
  {
   "cell_type": "code",
   "execution_count": null,
   "metadata": {},
   "outputs": [],
   "source": []
  }
 ],
 "metadata": {
  "kernelspec": {
   "display_name": "Python 3 (ipykernel)",
   "language": "python",
   "name": "python3"
  },
  "language_info": {
   "codemirror_mode": {
    "name": "ipython",
    "version": 3
   },
   "file_extension": ".py",
   "mimetype": "text/x-python",
   "name": "python",
   "nbconvert_exporter": "python",
   "pygments_lexer": "ipython3",
   "version": "3.8.0"
  },
  "vscode": {
   "interpreter": {
    "hash": "916dbcbb3f70747c44a77c7bcd40155683ae19c65e1c03b4aa3499c5328201f1"
   }
  }
 },
 "nbformat": 4,
 "nbformat_minor": 2
}
