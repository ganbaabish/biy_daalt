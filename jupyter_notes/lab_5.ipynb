{
 "cells": [
  {
   "cell_type": "markdown",
   "metadata": {},
   "source": [
    "5.1 Өгөгдсөн 2 тооны багыг нь ол."
   ]
  },
  {
   "cell_type": "code",
   "execution_count": 1,
   "metadata": {},
   "outputs": [
    {
     "name": "stdout",
     "output_type": "stream",
     "text": [
      "Ehnii toog oruul: 10\n",
      "Hoyrdahi toog oruul: 9\n",
      "result: 9\n"
     ]
    }
   ],
   "source": [
    "first = int(input('Ehnii toog oruul: '))\n",
    "second= int(input('Hoyrdahi toog oruul: '))\n",
    "\n",
    "print('result:',first if first<second else second)"
   ]
  },
  {
   "cell_type": "markdown",
   "metadata": {},
   "source": [
    "5.2 Өгөгдсөн 3 тооны ихийг ол"
   ]
  },
  {
   "cell_type": "code",
   "execution_count": 2,
   "metadata": {},
   "outputs": [
    {
     "name": "stdout",
     "output_type": "stream",
     "text": [
      "Ehnii toog oruul: 25\n",
      "Hoyrdahi toog oruul: 36\n",
      "Gurawdahi toog oruul: 8\n",
      "max: 36\n"
     ]
    }
   ],
   "source": [
    "first = int(input('Ehnii toog oruul: '))\n",
    "second= int(input('Hoyrdahi toog oruul: '))\n",
    "third = int(input('Gurawdahi toog oruul: '))\n",
    "\n",
    "print('max:',max(first, second, third))"
   ]
  },
  {
   "cell_type": "markdown",
   "metadata": {},
   "source": [
    "5.3 Өгөгдсөн 4 тоон дотроос 3-д хуваагддаг тоонуудын тоог ол. "
   ]
  },
  {
   "cell_type": "code",
   "execution_count": 3,
   "metadata": {},
   "outputs": [
    {
     "name": "stdout",
     "output_type": "stream",
     "text": [
      "1 dahi toog oruul: 10\n",
      "2 dahi toog oruul: 12\n",
      "3 dahi toog oruul: 18\n",
      "4 dahi toog oruul: 20\n",
      "3т хуваагддаг: 12\n",
      "3т хуваагддаг: 18\n"
     ]
    }
   ],
   "source": [
    "arr = []\n",
    "for i in range(1, 5):\n",
    "    print(i, end=' ')\n",
    "    arr.append(int(input('dahi toog oruul: ')))\n",
    "\n",
    "for item in arr:\n",
    "    if item%3==0:\n",
    "        print('3т хуваагддаг:',item)"
   ]
  },
  {
   "cell_type": "markdown",
   "metadata": {},
   "source": [
    "5.4 Өгөгдсөн 3 тоон дахь тэгш тоонуудын нийлбэрийг ол."
   ]
  },
  {
   "cell_type": "code",
   "execution_count": 4,
   "metadata": {},
   "outputs": [
    {
     "name": "stdout",
     "output_type": "stream",
     "text": [
      "1 dahi toog oruul: 27\n",
      "2 dahi toog oruul: 28\n",
      "3 dahi toog oruul: 9\n",
      "Нийлбэр: 28\n"
     ]
    }
   ],
   "source": [
    "arr = []\n",
    "for i in range(1, 4):\n",
    "    print(i, end=' ')\n",
    "    arr.append(int(input('dahi toog oruul: ')))\n",
    "\n",
    "sum=0\n",
    "for item in arr:\n",
    "    if item%2==0:\n",
    "        sum+=item\n",
    "\n",
    "print('Нийлбэр:',sum)"
   ]
  },
  {
   "cell_type": "markdown",
   "metadata": {},
   "source": [
    "5.5 Өгөгдсөн 3 оронтой тоо палиндром эсэхийг шалга. Хоёр талаасаа ижил уншигддаг тоог далиндром тоо гэнэ. Жишээ нь: 121, 343"
   ]
  },
  {
   "cell_type": "code",
   "execution_count": 5,
   "metadata": {},
   "outputs": [
    {
     "name": "stdout",
     "output_type": "stream",
     "text": [
      "3 orontoi toog oruul: 161\n",
      "palindrome mon\n"
     ]
    }
   ],
   "source": [
    "a = 0\n",
    "while a<100 or a>999:\n",
    "    a = int(input('3 orontoi toog oruul: '))\n",
    "\n",
    "if a == int(str(a)[::-1]):\n",
    "    print('palindrome mon')\n",
    "else:\n",
    "    print('palindrome bish')"
   ]
  },
  {
   "cell_type": "markdown",
   "metadata": {},
   "source": [
    "5.6 Өгөгдсөн 4 тооны 11-д хууваагддаггүй тоонуудынх нь нийлбэрийг ол"
   ]
  },
  {
   "cell_type": "code",
   "execution_count": 6,
   "metadata": {},
   "outputs": [
    {
     "name": "stdout",
     "output_type": "stream",
     "text": [
      "1 dahi toog oruul: 22\n",
      "2 dahi toog oruul: 19\n",
      "3 dahi toog oruul: 55\n",
      "4 dahi toog oruul: 38\n",
      "Нийлбэр: 57\n"
     ]
    }
   ],
   "source": [
    "arr = []\n",
    "for i in range(1, 5):\n",
    "    print(i, end=' ')\n",
    "    arr.append(int(input('dahi toog oruul: ')))\n",
    "sum = 0\n",
    "for item in arr:\n",
    "    if item%11!=0:\n",
    "        sum+=item\n",
    "\n",
    "print('Нийлбэр:',sum)"
   ]
  },
  {
   "cell_type": "markdown",
   "metadata": {},
   "source": [
    "5.7 Долоо хоногийн дугаар өгөгдөхөд харгалзах гарагийг англиар хэвлэ. Эхний үсгийг  томоор бичнэ"
   ]
  },
  {
   "cell_type": "code",
   "execution_count": 7,
   "metadata": {},
   "outputs": [
    {
     "name": "stdout",
     "output_type": "stream",
     "text": [
      "Odriin dugaar oruul [1-7]: 7\n",
      "Day is Saturday\n"
     ]
    }
   ],
   "source": [
    "day_dictionary = {1:'Monday', 2:'Tuesday', 3:'Wednesday', 4:'Thursday', 5:'Friday', 6:'Sunday', 7:'Saturday'}\n",
    "day = 0\n",
    "while day < 1 or day > 7:\n",
    "    day = int(input('Odriin dugaar oruul [1-7]: '))\n",
    "\n",
    "print('Day is',day_dictionary[day])"
   ]
  },
  {
   "cell_type": "markdown",
   "metadata": {},
   "source": [
    "5.8 Өгөгдсөн тоон үнэлгээг үсгэн үнэлгээнд шилжүүл. Тоон үнэлгээ 89-өөс их бол А, 79-өөс их В, 69-өөс их бол С, 59-өөс их бол D бусад тохиолдолд F үсгэн дүнг хэвлэнэ"
   ]
  },
  {
   "cell_type": "code",
   "execution_count": 8,
   "metadata": {},
   "outputs": [
    {
     "name": "stdout",
     "output_type": "stream",
     "text": [
      "Toon unelgee oruul: 90\n",
      "Usgen unelgee: A\n"
     ]
    }
   ],
   "source": [
    "toon_unelgee = float(input(\"Toon unelgee oruul: \"))\n",
    "\n",
    "if toon_unelgee > 100:\n",
    "    toon_unelgee = 100\n",
    "elif toon_unelgee < 0:\n",
    "    toon_unelgee = 0\n",
    "\n",
    "print('Usgen unelgee: ', end='')\n",
    "if toon_unelgee>89:\n",
    "    print('A')\n",
    "elif toon_unelgee>79:\n",
    "    print('B')\n",
    "elif toon_unelgee>69:\n",
    "    print('C')\n",
    "elif toon_unelgee>59:\n",
    "    print('D')\n",
    "else:\n",
    "    print('F')"
   ]
  }
 ],
 "metadata": {
  "kernelspec": {
   "display_name": "Python 3 (ipykernel)",
   "language": "python",
   "name": "python3"
  },
  "language_info": {
   "codemirror_mode": {
    "name": "ipython",
    "version": 3
   },
   "file_extension": ".py",
   "mimetype": "text/x-python",
   "name": "python",
   "nbconvert_exporter": "python",
   "pygments_lexer": "ipython3",
   "version": "3.8.0"
  },
  "vscode": {
   "interpreter": {
    "hash": "438727c8858bc46e257ba69863512eb04c8e9f5db9a1c7102296af502b4092eb"
   }
  }
 },
 "nbformat": 4,
 "nbformat_minor": 2
}
