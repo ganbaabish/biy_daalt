{
 "cells": [
  {
   "cell_type": "code",
   "execution_count": 1,
   "metadata": {},
   "outputs": [],
   "source": [
    "import numpy as np\n",
    "import pandas as pd\n",
    "from pandas import array"
   ]
  },
  {
   "cell_type": "markdown",
   "metadata": {},
   "source": [
    "12.1. Нэг хэмжээст хоёр массивыг нийлүүлж, элементүүдийн тоог хэвлэ."
   ]
  },
  {
   "cell_type": "code",
   "execution_count": 2,
   "metadata": {},
   "outputs": [
    {
     "name": "stdout",
     "output_type": "stream",
     "text": [
      "[ 1  2  3  4  5  6  7  8  9 10]\n"
     ]
    }
   ],
   "source": [
    "massive_1 = np.array([1, 2, 3, 4, 5])\n",
    "\n",
    "massive_2 = np.array([6, 7, 8, 9, 10])\n",
    "\n",
    "massive_1 = np.concatenate((massive_1, massive_2))\n",
    "\n",
    "print(massive_1)"
   ]
  },
  {
   "cell_type": "markdown",
   "metadata": {},
   "source": [
    "12.2. Нэг хэмжээст массивыг хуулж, хуулсан массивын элементүүдийг эрэмбэл."
   ]
  },
  {
   "cell_type": "code",
   "execution_count": 3,
   "metadata": {},
   "outputs": [
    {
     "name": "stdout",
     "output_type": "stream",
     "text": [
      "[ 1  2  7  8 15  9 13  3  4  5]\n",
      "[ 1  2  3  4  5  7  8  9 13 15]\n"
     ]
    }
   ],
   "source": [
    "massive_1 = np.array([1, 2,7, 8, 15, 9, 13, 3, 4, 5])\n",
    "\n",
    "massive_2 = np.copy(massive_1)\n",
    "\n",
    "massive_2.sort()\n",
    "\n",
    "print(massive_1)\n",
    "print(massive_2)"
   ]
  },
  {
   "cell_type": "markdown",
   "metadata": {},
   "source": [
    "12.3. Хоёр хэмжээст массивын элементүүдийн нийлбэрийг ол."
   ]
  },
  {
   "cell_type": "code",
   "execution_count": 4,
   "metadata": {},
   "outputs": [
    {
     "name": "stdout",
     "output_type": "stream",
     "text": [
      "67\n"
     ]
    }
   ],
   "source": [
    "massive_1 = np.array([1, 2,7, 8, 15, 9, 13, 3, 4, 5])\n",
    "\n",
    "print(np.sum(massive_1))"
   ]
  },
  {
   "cell_type": "markdown",
   "metadata": {},
   "source": [
    "12.4. Хоёр хэмжээст массивын элементүүдийг эрэмбэлж, сондгой индекстэй элементүүдийн үржвэрийг ол."
   ]
  },
  {
   "cell_type": "code",
   "execution_count": 5,
   "metadata": {},
   "outputs": [
    {
     "name": "stdout",
     "output_type": "stream",
     "text": [
      "13\n",
      "4\n"
     ]
    }
   ],
   "source": [
    "massive_1 = np.array([[1, 2, 7, 8, 15], [9, 13, 3, 4, 5]])\n",
    "\n",
    "for i in range(1, massive_1.ndim, 2):\n",
    "    for j in range(1, len(massive_1[0]), 2):\n",
    "        print(massive_1[i][j])"
   ]
  },
  {
   "cell_type": "markdown",
   "metadata": {},
   "source": [
    "12.5. Хоёр хэмжээст массивын тэгш индекстэй элементүүдийг хуулбарлаж, хамгийн их хуваагчийг ол."
   ]
  },
  {
   "cell_type": "code",
   "execution_count": 6,
   "metadata": {},
   "outputs": [
    {
     "name": "stdout",
     "output_type": "stream",
     "text": [
      "1\n"
     ]
    }
   ],
   "source": [
    "massive_1 = np.array([[1, 2, 7, 8, 15], [9, 13, 3, 4, 5]])\n",
    "\n",
    "massive_2 = []\n",
    "\n",
    "for i in range(0, massive_1.ndim, 2):\n",
    "    for j in range(0, len(massive_1[0]), 2):\n",
    "        massive_2.append(massive_1[i][j])\n",
    "\n",
    "massive_2 = array(massive_2)\n",
    "\n",
    "for i in range(int(max(massive_2)/2), 0, -1):\n",
    "    hieh = False\n",
    "    for item in massive_2:\n",
    "        if item % i == 0:\n",
    "            hieh = True\n",
    "            continue\n",
    "        hieh = False\n",
    "        break\n",
    "    if hieh:\n",
    "        print(i)\n",
    "        break"
   ]
  },
  {
   "cell_type": "markdown",
   "metadata": {},
   "source": [
    "12.6. 5 хичээлийн код, нэр бүхий цувааг үүсгэж, 3 дахь хичээлийн нэрийг солж, цувааг хэвлэ."
   ]
  },
  {
   "cell_type": "code",
   "execution_count": 7,
   "metadata": {},
   "outputs": [
    {
     "name": "stdout",
     "output_type": "stream",
     "text": [
      "[{'code1': 'name1', 'code3': 'changed_name'} {'code2': 'name2'}\n",
      " {'code3': 'name3'} {'code4': 'name4'} {'code5': 'name5'}]\n"
     ]
    }
   ],
   "source": [
    "lessons = np.array([{\"code1\"    :   \"name1\"},\n",
    "                    {\"code2\"    :   \"name2\"},\n",
    "                    {\"code3\"    :   \"name3\"},\n",
    "                    {\"code4\"    :   \"name4\"},\n",
    "                    {\"code5\"    :   \"name5\"},\n",
    "                ])\n",
    "\n",
    "lessons[0][\"code3\"]=\"changed_name\"\n",
    "print(lessons)"
   ]
  },
  {
   "cell_type": "markdown",
   "metadata": {},
   "source": [
    "12.7. csv файл татаж авах холбоос: https://www.w3schools.com/python/pandas/dirtydata.csv.txt алдаатай хоосон нүдтэй мөрийг алгасаж хэвлэ."
   ]
  },
  {
   "cell_type": "code",
   "execution_count": 8,
   "metadata": {},
   "outputs": [
    {
     "name": "stdout",
     "output_type": "stream",
     "text": [
      "    Duration       Date  Pulse  Maxpulse  Calories\n",
      "0         60 2020-12-01    110       130     409.1\n",
      "1         60 2020-12-02    117       145     479.0\n",
      "2         60 2020-12-03    103       135     340.0\n",
      "3         45 2020-12-04    109       175     282.4\n",
      "4         45 2020-12-05    117       148     406.0\n",
      "5         60 2020-12-06    102       127     300.0\n",
      "6         60 2020-12-07    110       136     374.0\n",
      "8         30 2020-12-09    109       133     195.1\n",
      "9         60 2020-12-10     98       124     269.0\n",
      "10        60 2020-12-11    103       147     329.3\n",
      "11        60 2020-12-12    100       120     250.7\n",
      "12        60 2020-12-12    100       120     250.7\n",
      "13        60 2020-12-13    106       128     345.3\n",
      "14        60 2020-12-14    104       132     379.3\n",
      "15        60 2020-12-15     98       123     275.0\n",
      "16        60 2020-12-16     98       120     215.2\n",
      "17        60 2020-12-17    100       120     300.0\n",
      "19        60 2020-12-19    103       123     323.0\n",
      "20        45 2020-12-20     97       125     243.0\n",
      "21        60 2020-12-21    108       131     364.2\n",
      "23        60 2020-12-23    130       101     300.0\n",
      "24        45 2020-12-24    105       132     246.0\n",
      "25        60 2020-12-25    102       126     334.5\n",
      "26        60 2020-12-26    100       120     250.0\n",
      "27        60 2020-12-27     92       118     241.0\n",
      "29        60 2020-12-29    100       132     280.0\n",
      "30        60 2020-12-30    102       129     380.3\n",
      "31        60 2020-12-31     92       115     243.0\n"
     ]
    }
   ],
   "source": [
    "df = pd.read_csv(\"./assets/dirtydata.csv\")\n",
    "\n",
    "df.dropna(inplace=True)\n",
    "df['Date'] = pd.to_datetime(df['Date'])\n",
    "df.dropna(subset=['Date'], inplace = True)\n",
    "for x in df.index:\n",
    "  if df.loc[x, \"Duration\"] > 120:\n",
    "    df.drop(x, inplace = True)\n",
    "\n",
    "print(df)"
   ]
  },
  {
   "cell_type": "markdown",
   "metadata": {},
   "source": [
    "12.8. Дараах csv файл татан авч https://www.w3schools.com/python/pandas/dirtydata.csv.txt   “Pulse” баганийн 100-с 110 хооронд орших өгөгдлүүдийг хэвлэ."
   ]
  },
  {
   "cell_type": "code",
   "execution_count": 9,
   "metadata": {},
   "outputs": [
    {
     "name": "stdout",
     "output_type": "stream",
     "text": [
      "2     103\n",
      "3     109\n",
      "5     102\n",
      "7     104\n",
      "8     109\n",
      "10    103\n",
      "13    106\n",
      "14    104\n",
      "19    103\n",
      "21    108\n",
      "24    105\n",
      "25    102\n",
      "28    103\n",
      "30    102\n",
      "Name: Pulse, dtype: int64\n"
     ]
    }
   ],
   "source": [
    "df = pd.read_csv(\"./assets/dirtydata.csv\")\n",
    "\n",
    "print(df.loc[df[\"Pulse\"]>100].loc[df[\"Pulse\"]<110][\"Pulse\"])"
   ]
  }
 ],
 "metadata": {
  "kernelspec": {
   "display_name": "Python 3 (ipykernel)",
   "language": "python",
   "name": "python3"
  },
  "language_info": {
   "codemirror_mode": {
    "name": "ipython",
    "version": 3
   },
   "file_extension": ".py",
   "mimetype": "text/x-python",
   "name": "python",
   "nbconvert_exporter": "python",
   "pygments_lexer": "ipython3",
   "version": "3.8.0"
  },
  "vscode": {
   "interpreter": {
    "hash": "916dbcbb3f70747c44a77c7bcd40155683ae19c65e1c03b4aa3499c5328201f1"
   }
  }
 },
 "nbformat": 4,
 "nbformat_minor": 2
}
