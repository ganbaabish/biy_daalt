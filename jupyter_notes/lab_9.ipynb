{
 "cells": [
  {
   "cell_type": "code",
   "execution_count": 1,
   "metadata": {},
   "outputs": [],
   "source": [
    "import statistics\n"
   ]
  },
  {
   "cell_type": "markdown",
   "metadata": {},
   "source": [
    "9.1. Хэрэглэгчийн оруулсан тоонуудын дундажийг олох функцийг бич."
   ]
  },
  {
   "cell_type": "code",
   "execution_count": 2,
   "metadata": {},
   "outputs": [
    {
     "name": "stdout",
     "output_type": "stream",
     "text": [
      "2.3333333333333335\n"
     ]
    }
   ],
   "source": [
    "def dundaj(*args):\n",
    "    result = 0\n",
    "    for i in args:\n",
    "        result+=i\n",
    "    return result/len(args)\n",
    "\n",
    "print(dundaj(1,2,3,5,2,1))"
   ]
  },
  {
   "cell_type": "markdown",
   "metadata": {},
   "source": [
    "9.2. Хэрэглэгчийн оруулсан тоонуудын медианийг олох функцийг бич."
   ]
  },
  {
   "cell_type": "code",
   "execution_count": 3,
   "metadata": {},
   "outputs": [
    {
     "name": "stdout",
     "output_type": "stream",
     "text": [
      "2\n"
     ]
    }
   ],
   "source": [
    "def median(*args):\n",
    "    result = list(args)\n",
    "    result = sorted(result)\n",
    "    return result[int(len(result)/2)]\n",
    "\n",
    "print(median(1,2,3,5,2,1))"
   ]
  },
  {
   "cell_type": "markdown",
   "metadata": {},
   "source": [
    "9.3. хэрэглэгчийн оруулсан тоонуудын стандарт хазайлтыг олох функцийг бич."
   ]
  },
  {
   "cell_type": "code",
   "execution_count": 4,
   "metadata": {},
   "outputs": [],
   "source": [
    "def standart_dev(*args):\n",
    "    ls = []\n",
    "    for item in args:\n",
    "        ls.append(item)\n",
    "    return statistics.stdev(ls)"
   ]
  },
  {
   "cell_type": "markdown",
   "metadata": {},
   "source": [
    "9.4. Өгөгдсөн жагсаалтаас тоонуудын их тоог олох функцийг бич."
   ]
  },
  {
   "cell_type": "code",
   "execution_count": 5,
   "metadata": {},
   "outputs": [],
   "source": [
    "def max_value(nums:list)->float:\n",
    "    return max(nums)"
   ]
  },
  {
   "cell_type": "markdown",
   "metadata": {},
   "source": [
    "9.5. Өгөгдсөн жагсаалтаас хамгийн бага тоог олох функцийг бич."
   ]
  },
  {
   "cell_type": "code",
   "execution_count": 6,
   "metadata": {},
   "outputs": [],
   "source": [
    "def min_value(nums:list)->float:\n",
    "    return min(nums)"
   ]
  },
  {
   "cell_type": "markdown",
   "metadata": {},
   "source": [
    "9.6. хэрэглэгчийн оруулсан тоонуудаас хамгийн их гурван тоог олох функцийг бич."
   ]
  },
  {
   "cell_type": "code",
   "execution_count": 7,
   "metadata": {},
   "outputs": [],
   "source": [
    "def max_value(*args)->list:\n",
    "    items = []\n",
    "    for item in args:\n",
    "        items.append(item)\n",
    "    result = []\n",
    "    for i in range(3):\n",
    "        max_value = 0\n",
    "        for item in items:\n",
    "            if max_value < item and item not in result:\n",
    "                max_value = item\n",
    "        result.append(max_value)\n",
    "    return result"
   ]
  },
  {
   "cell_type": "markdown",
   "metadata": {},
   "source": [
    "9.7. Фаренгейтээс цельсрүү хөрвүүлэх функцийг бич."
   ]
  },
  {
   "cell_type": "code",
   "execution_count": 8,
   "metadata": {},
   "outputs": [
    {
     "name": "stdout",
     "output_type": "stream",
     "text": [
      "0.5555555555555556\n"
     ]
    }
   ],
   "source": [
    "def to_celcius(celcius:float)->float:\n",
    "    return (celcius - 32) * 5 / 9\n",
    "\n",
    "print(to_celcius(33))"
   ]
  },
  {
   "cell_type": "markdown",
   "metadata": {},
   "source": [
    "9.8. Өгөгдсөн жагсаалтаас элемент хайх функцийг бич."
   ]
  },
  {
   "cell_type": "code",
   "execution_count": 9,
   "metadata": {},
   "outputs": [],
   "source": [
    "def find(items:list, value)->int:\n",
    "    for i in range(int(len(items))):\n",
    "        if items[i] == value:\n",
    "            return i\n",
    "    return -1"
   ]
  },
  {
   "cell_type": "markdown",
   "metadata": {},
   "source": [
    "9.9. Өгөгдсөн жагсаалтыг эрэмбэлэх функцийг бич."
   ]
  },
  {
   "cell_type": "code",
   "execution_count": 10,
   "metadata": {},
   "outputs": [],
   "source": [
    "def sort_list(items:list)->list:\n",
    "    return items.sort()"
   ]
  },
  {
   "cell_type": "markdown",
   "metadata": {},
   "source": [
    "9.10. Хоёр жагсаалтыг оролт болгон авч нэгтгэсэн жагсаалтыг буцаах функцийг бич."
   ]
  },
  {
   "cell_type": "code",
   "execution_count": 11,
   "metadata": {},
   "outputs": [
    {
     "name": "stdout",
     "output_type": "stream",
     "text": [
      "['a', 'c', 'b', 'd', 'a']\n"
     ]
    }
   ],
   "source": [
    "def concat(first:list, second:list)->list:\n",
    "    return first+second\n",
    "\n",
    "print(concat(['a', 'c'], ['b', 'd', 'a']))"
   ]
  }
 ],
 "metadata": {
  "kernelspec": {
   "display_name": "Python 3 (ipykernel)",
   "language": "python",
   "name": "python3"
  },
  "language_info": {
   "codemirror_mode": {
    "name": "ipython",
    "version": 3
   },
   "file_extension": ".py",
   "mimetype": "text/x-python",
   "name": "python",
   "nbconvert_exporter": "python",
   "pygments_lexer": "ipython3",
   "version": "3.8.0"
  },
  "vscode": {
   "interpreter": {
    "hash": "916dbcbb3f70747c44a77c7bcd40155683ae19c65e1c03b4aa3499c5328201f1"
   }
  }
 },
 "nbformat": 4,
 "nbformat_minor": 2
}
