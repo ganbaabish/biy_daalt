{
 "cells": [
  {
   "cell_type": "markdown",
   "metadata": {},
   "source": [
    "11.1. Өөрийн нас, төрсөн өдрийг хэвлэх Модулыг импортлон хэвлэ."
   ]
  },
  {
   "cell_type": "code",
   "execution_count": 1,
   "metadata": {},
   "outputs": [
    {
     "name": "stdout",
     "output_type": "stream",
     "text": [
      "Name Age\n"
     ]
    }
   ],
   "source": [
    "import assets.assets_11_1"
   ]
  },
  {
   "cell_type": "markdown",
   "metadata": {},
   "source": [
    "11.2. 100 хүртлэх тооноос К тоонд хуваагдах тоон цувааг хэвлэх модулийг импортол."
   ]
  },
  {
   "cell_type": "code",
   "execution_count": 2,
   "metadata": {},
   "outputs": [
    {
     "name": "stdout",
     "output_type": "stream",
     "text": [
      "10\n",
      "20\n",
      "30\n",
      "40\n",
      "50\n",
      "60\n",
      "70\n",
      "80\n",
      "90\n",
      "100\n"
     ]
    }
   ],
   "source": [
    "import assets.assets_11_2 as t\n",
    "t.printf(10)"
   ]
  },
  {
   "cell_type": "markdown",
   "metadata": {},
   "source": [
    "11.3. А-ГАР УТАС, B-NOTEBOOK, C-СУУРИН КОМПЬЮТЕР гурван модуль үүсгэн модулийг импортол."
   ]
  },
  {
   "cell_type": "code",
   "execution_count": 3,
   "metadata": {},
   "outputs": [
    {
     "name": "stdout",
     "output_type": "stream",
     "text": [
      "cars\n",
      "pc\n",
      "phones\n"
     ]
    }
   ],
   "source": [
    "import assets.assets_11_3.cars\n",
    "import assets.assets_11_3.pc\n",
    "import assets.assets_11_3.phones"
   ]
  },
  {
   "cell_type": "markdown",
   "metadata": {},
   "source": [
    "11.4. Таван өөр төрлийн машины мэдээлэл агуулсан таван өөр модуль багц үүсгэн машинуудын мэдээлэл бүхий Модуль багцыг импортол."
   ]
  },
  {
   "cell_type": "code",
   "execution_count": 4,
   "metadata": {},
   "outputs": [
    {
     "name": "stdout",
     "output_type": "stream",
     "text": [
      "['Тоёота', 'Hynday', 'Kia', 'Nissan', 'Mersedes Benz', 'Орос автомашин']\n"
     ]
    }
   ],
   "source": [
    "import assets.assets_11_4.jijg_suudlin as lab_11_4_jijig\n",
    "import assets.assets_11_4.dund as lab_11_4_dund\n",
    "import assets.assets_11_4.tom as lab_11_4_tom\n",
    "\n",
    "print(lab_11_4_jijig.cars)"
   ]
  }
 ],
 "metadata": {
  "kernelspec": {
   "display_name": "Python 3 (ipykernel)",
   "language": "python",
   "name": "python3"
  },
  "language_info": {
   "codemirror_mode": {
    "name": "ipython",
    "version": 3
   },
   "file_extension": ".py",
   "mimetype": "text/x-python",
   "name": "python",
   "nbconvert_exporter": "python",
   "pygments_lexer": "ipython3",
   "version": "3.8.0"
  },
  "vscode": {
   "interpreter": {
    "hash": "916dbcbb3f70747c44a77c7bcd40155683ae19c65e1c03b4aa3499c5328201f1"
   }
  }
 },
 "nbformat": 4,
 "nbformat_minor": 2
}
