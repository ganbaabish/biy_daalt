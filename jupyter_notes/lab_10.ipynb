{
 "cells": [
  {
   "cell_type": "markdown",
   "metadata": {},
   "source": [
    "10.1. khuns=(\"Байцаа\", \"Гурил\", \"Лууван\", \"мах\", \"Сармис\", \"Манжин\", \"Улаан лооль\") өгөгдсөн жагсаалтаас хүнсний ногоог хэвлэ."
   ]
  },
  {
   "cell_type": "code",
   "execution_count": 1,
   "metadata": {},
   "outputs": [
    {
     "name": "stdout",
     "output_type": "stream",
     "text": [
      "Байцаа\n",
      "Лууван\n",
      "Сармис\n",
      "Манжин\n"
     ]
    }
   ],
   "source": [
    "khuns=(\"Байцаа\", \"Гурил\", \"Лууван\", \"мах\", \"Сармис\", \"Манжин\", \"Улаан лооль\")\n",
    "\n",
    "assets = {'khunsnii_nogoo': [\"Байцаа\", \"Лууван\", \"Сармис\", \"Манжин\"]}\n",
    "\n",
    "for item in khuns:\n",
    "    if item in assets[\"khunsnii_nogoo\"]:\n",
    "        print(item)"
   ]
  },
  {
   "cell_type": "markdown",
   "metadata": {},
   "source": [
    "10.2. tup1 = (1, 2, 3, 4, 5, 6, 7, 8, 9) Өгөгдсөн тоонуудад сондгой болон тэгш тоо хэд байгааг тоолох код бичнэ үү!"
   ]
  },
  {
   "cell_type": "code",
   "execution_count": 2,
   "metadata": {},
   "outputs": [
    {
     "name": "stdout",
     "output_type": "stream",
     "text": [
      "tegsh: 4, sondgoi: 5\n"
     ]
    }
   ],
   "source": [
    "tup1 = (1, 2, 3, 4, 5, 6, 7, 8, 9)\n",
    "tegsh = sondgoi = 0\n",
    "\n",
    "for i in tup1:\n",
    "    if i % 2 == 0:\n",
    "        tegsh += 1\n",
    "        continue\n",
    "    sondgoi += 1\n",
    "\n",
    "print('tegsh: ', tegsh, ', sondgoi: ', sondgoi, sep='')"
   ]
  },
  {
   "cell_type": "markdown",
   "metadata": {},
   "source": [
    "10.3. Tup1,tup2 = (1, 2, 3, 4, 5, 6, 7, 8, 9),(22,14,89,23,9,10) хамгийн их болон хамгийн бага элементийг олж нэмэн шинэ tup3 үүсгэ."
   ]
  },
  {
   "cell_type": "code",
   "execution_count": 3,
   "metadata": {},
   "outputs": [
    {
     "name": "stdout",
     "output_type": "stream",
     "text": [
      "(1, 89)\n"
     ]
    }
   ],
   "source": [
    "tup1,tup2 = (1, 2, 3, 4, 5, 6, 7, 8, 9),(22,14,89,23,9,10) \n",
    "\n",
    "max_ = max(max(tup1, tup2))\n",
    "\n",
    "min_ = min(min(tup1, tup2))\n",
    "\n",
    "tup3 = (min_, max_)\n",
    "print(tup3)"
   ]
  },
  {
   "cell_type": "markdown",
   "metadata": {},
   "source": [
    "10.4. Tup1,tup2 –ийн дундаж утгыг устга."
   ]
  },
  {
   "cell_type": "code",
   "execution_count": 4,
   "metadata": {},
   "outputs": [
    {
     "name": "stdout",
     "output_type": "stream",
     "text": [
      "(1, 2, 3, 4, 6, 7, 8, 9) (22, 14, 89, 9, 10)\n"
     ]
    }
   ],
   "source": [
    "tup1,tup2 = (1, 2, 3, 4, 5, 6, 7, 8, 9),(22,14,89,23,9,10) \n",
    "\n",
    "m1, m2 = tup1[int(len(tup1)/2)], tup2[int(len(tup2)/2)]\n",
    "\n",
    "ls1, ls2 = list(tup1), list(tup2)\n",
    "\n",
    "ls1.remove(m1), ls2.remove(m2)\n",
    "\n",
    "tup1, tup2 = tuple(ls1), tuple(ls2)\n",
    "\n",
    "print(tup1, tup2)"
   ]
  },
  {
   "cell_type": "markdown",
   "metadata": {},
   "source": [
    "Phone brands"
   ]
  },
  {
   "cell_type": "code",
   "execution_count": 5,
   "metadata": {},
   "outputs": [],
   "source": [
    "phones={      \n",
    "            'Nokia'     :{'mark':'3310',            'release_data':'2000'},\n",
    "            'Iphone'    :{'mark':'XIV',             'release_data':'2022'},\n",
    "            'Samsung'   :{'mark':'Note 22 ultra',   'release_data':'2022'},\n",
    "            'Huawei'    :{'mark':'Nova 9',          'release_data':'2021'},\n",
    "            'LG'        :{'mark':'q6',              'release_data':'2017'}\n",
    "        }"
   ]
  },
  {
   "cell_type": "markdown",
   "metadata": {},
   "source": [
    "10.5. Таван брэндийн утасны үйлдвэрлэгдсэн марк ба оныг  хэвлэнэ үү."
   ]
  },
  {
   "cell_type": "code",
   "execution_count": 6,
   "metadata": {},
   "outputs": [
    {
     "name": "stdout",
     "output_type": "stream",
     "text": [
      "{'mark': '3310', 'release_data': '2000'}\n",
      "{'mark': 'XIV', 'release_data': '2022'}\n",
      "{'mark': 'Note 22 ultra', 'release_data': '2022'}\n",
      "{'mark': 'Nova 9', 'release_data': '2021'}\n",
      "{'mark': 'q6', 'release_data': '2017'}\n"
     ]
    }
   ],
   "source": [
    "for value in phones.values():\n",
    "    print(value)"
   ]
  },
  {
   "cell_type": "markdown",
   "metadata": {},
   "source": [
    "10.6. Үүсгэсэн 5 брэндийн утасны түлхүүр талбараар утга буцаана уу."
   ]
  },
  {
   "cell_type": "code",
   "execution_count": 7,
   "metadata": {},
   "outputs": [
    {
     "name": "stdout",
     "output_type": "stream",
     "text": [
      "Nokia\n",
      "Iphone\n",
      "Samsung\n",
      "Huawei\n",
      "LG\n"
     ]
    }
   ],
   "source": [
    "for key in phones.keys():\n",
    "    print(key)"
   ]
  },
  {
   "cell_type": "markdown",
   "metadata": {},
   "source": [
    "10.7. Үүсгэсэн 5 брэндийн утасны элементүүдийн тоог хэвлэ."
   ]
  },
  {
   "cell_type": "code",
   "execution_count": 8,
   "metadata": {},
   "outputs": [
    {
     "name": "stdout",
     "output_type": "stream",
     "text": [
      "5\n"
     ]
    }
   ],
   "source": [
    "print(len(phones.keys()))"
   ]
  },
  {
   "cell_type": "markdown",
   "metadata": {},
   "source": [
    "10.8. Үүсгэсэн 5 брэндийн утасны маркийг соль."
   ]
  },
  {
   "cell_type": "code",
   "execution_count": 9,
   "metadata": {},
   "outputs": [
    {
     "name": "stdout",
     "output_type": "stream",
     "text": [
      "{'Nokia': {'mark': 'Changed', 'release_data': '2000'}, 'Iphone': {'mark': 'Changed', 'release_data': '2022'}, 'Samsung': {'mark': 'Changed', 'release_data': '2022'}, 'Huawei': {'mark': 'Changed', 'release_data': '2021'}, 'LG': {'mark': 'Changed', 'release_data': '2017'}}\n"
     ]
    }
   ],
   "source": [
    "for value in phones.values():\n",
    "    value['mark']='Changed'\n",
    "\n",
    "print(phones)"
   ]
  }
 ],
 "metadata": {
  "kernelspec": {
   "display_name": "Python 3 (ipykernel)",
   "language": "python",
   "name": "python3"
  },
  "language_info": {
   "codemirror_mode": {
    "name": "ipython",
    "version": 3
   },
   "file_extension": ".py",
   "mimetype": "text/x-python",
   "name": "python",
   "nbconvert_exporter": "python",
   "pygments_lexer": "ipython3",
   "version": "3.8.0"
  },
  "vscode": {
   "interpreter": {
    "hash": "916dbcbb3f70747c44a77c7bcd40155683ae19c65e1c03b4aa3499c5328201f1"
   }
  }
 },
 "nbformat": 4,
 "nbformat_minor": 2
}
