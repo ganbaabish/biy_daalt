{
 "cells": [
  {
   "cell_type": "markdown",
   "metadata": {},
   "source": [
    "13.1. Тээврийн хэрэгсэл vehicle классыг дээд хурд болон явсан зам аттрибиуттай үүсгэх."
   ]
  },
  {
   "cell_type": "code",
   "execution_count": 1,
   "metadata": {},
   "outputs": [
    {
     "name": "stdout",
     "output_type": "stream",
     "text": [
      "240 18\n"
     ]
    }
   ],
   "source": [
    "class Vehicle:\n",
    "    def __init__(self, max_speed, mileage):\n",
    "        self.max_speed = max_speed\n",
    "        self.mileage = mileage\n",
    "\n",
    "modelX = Vehicle(240, 18)\n",
    "print(modelX.max_speed, modelX.mileage)"
   ]
  },
  {
   "cell_type": "markdown",
   "metadata": {},
   "source": [
    "13.2. Өмнө үүсгэсэн классын Чайлд класс үүсгэхдээ тээврийн хэрэгсэл vehicle классаас удамшсан байх ёстой. "
   ]
  },
  {
   "cell_type": "code",
   "execution_count": 2,
   "metadata": {},
   "outputs": [],
   "source": [
    "class Bus(Vehicle):\n",
    "    pass"
   ]
  },
  {
   "cell_type": "markdown",
   "metadata": {},
   "source": [
    "13.3. Өмнө үүсгэсэн классын Bus нэртэй чайлд класс үүсгэхдээ тээврийн хэрэгсэл vehicle классаас удамшсан байх ёстой ба суудлын тооны тогтмол утгыг 50 байхаар өгнө. "
   ]
  },
  {
   "cell_type": "code",
   "execution_count": 3,
   "metadata": {},
   "outputs": [],
   "source": [
    "class Vehicle:\n",
    "\n",
    "    def __init__(self, name, max_speed, mileage):\n",
    "        self.name = name\n",
    "        self.max_speed = max_speed\n",
    "        self.mileage = mileage\n",
    "\n",
    "class Bus(Vehicle):\n",
    "    pass\n",
    "\n",
    "School_bus = Bus(\"School Volvo\", 180, 12)"
   ]
  },
  {
   "cell_type": "markdown",
   "metadata": {},
   "source": [
    "13.4. Өмнө үүсгэсэн классын Тээврийн хэрэгсэл vehicle классын өнгө буюу color аттрибиутын утга нь тогтмол утгаараа цагаан өнгө байхаар сонгоно. "
   ]
  },
  {
   "cell_type": "code",
   "execution_count": 4,
   "metadata": {},
   "outputs": [],
   "source": [
    "class Vehicle:\n",
    "    def __init__(self, name, max_speed, mileage):\n",
    "        self.name = name\n",
    "        self.max_speed = max_speed\n",
    "        self.mileage = mileage\n",
    "\n",
    "    def seating_capacity(self, capacity):\n",
    "        return f\"The seating capacity of a {self.name} is {capacity} passengers\"\n",
    "\n",
    "class Bus(Vehicle):\n",
    "    # assign default value to capacity\n",
    "    def seating_capacity(self, capacity=50):\n",
    "        return super().seating_capacity(capacity=50)\n",
    "\n",
    "School_bus = Bus(\"School Volvo\", 180, 12)"
   ]
  },
  {
   "cell_type": "markdown",
   "metadata": {},
   "source": [
    "13.5. Өмнө үүсгэсэн классын Bus нэртэй чайлд класс үүсгэхдээ тээврийн хэрэгсэл vehicle классаас удамшсан байх ёстой ба суудлын тоо 50-г нэг зорчигчийн тээврийн хөлс 100 доллар байхаар тооцож хүн тус бүрийн төлбөр дээр 10 хувийн татвар нэмнэ. Төлбөрийн мэдээллийг fare() нэртэй функц дотор хуулж, өгнө. "
   ]
  },
  {
   "cell_type": "code",
   "execution_count": 5,
   "metadata": {},
   "outputs": [
    {
     "name": "stdout",
     "output_type": "stream",
     "text": [
      "White School Volvo Speed: 180 Mileage: 12\n",
      "White Audi Q5 Speed: 240 Mileage: 18\n"
     ]
    }
   ],
   "source": [
    "class Vehicle:\n",
    "    color = \"White\"\n",
    "\n",
    "    def __init__(self, name, max_speed, mileage):\n",
    "        self.name = name\n",
    "        self.max_speed = max_speed\n",
    "        self.mileage = mileage\n",
    "\n",
    "class Bus(Vehicle):\n",
    "    pass\n",
    "\n",
    "class Car(Vehicle):\n",
    "    pass\n",
    "\n",
    "School_bus = Bus(\"School Volvo\", 180, 12)\n",
    "print(School_bus.color, School_bus.name, \"Speed:\", School_bus.max_speed, \"Mileage:\", School_bus.mileage)\n",
    "\n",
    "car = Car(\"Audi Q5\", 240, 18)\n",
    "print(car.color, car.name, \"Speed:\", car.max_speed, \"Mileage:\", car.mileage)"
   ]
  },
  {
   "cell_type": "markdown",
   "metadata": {},
   "source": [
    "13.6. Өмнө үүсгэсэн классын School_bus хувьсагч нь vehicle болон bus гэсэн классаас давхар удамшсан бол түүнийг үүсгэнэ."
   ]
  },
  {
   "cell_type": "code",
   "execution_count": 6,
   "metadata": {},
   "outputs": [
    {
     "name": "stdout",
     "output_type": "stream",
     "text": [
      "Total Bus fare is: 5500.0\n"
     ]
    }
   ],
   "source": [
    "class Vehicle:\n",
    "    def __init__(self, name, mileage, capacity):\n",
    "        self.name = name\n",
    "        self.mileage = mileage\n",
    "        self.capacity = capacity\n",
    "\n",
    "    def fare(self):\n",
    "        return self.capacity * 100\n",
    "\n",
    "class Bus(Vehicle):\n",
    "    def fare(self):\n",
    "        amount = super().fare()\n",
    "        amount += amount * 10 / 100\n",
    "        return amount\n",
    "\n",
    "School_bus = Bus(\"School Volvo\", 12, 50)\n",
    "print(\"Total Bus fare is:\", School_bus.fare())"
   ]
  },
  {
   "cell_type": "markdown",
   "metadata": {},
   "source": [
    "13.7. Оюутан student нэртэй класс үүсгэнэ. Энэ класс нь оюутны код, оюутны нэр, хичээлийн код болон дүн нэртэй аттрибуттай байна."
   ]
  },
  {
   "cell_type": "code",
   "execution_count": 7,
   "metadata": {},
   "outputs": [],
   "source": [
    "class student:\n",
    "    \n",
    "    def __init__(self, code:str = None, name:str = None, lesson_code:str = None, result:float = None) -> None:\n",
    "        self.student_code = code\n",
    "        self.student_name = name\n",
    "        self.lesson_code = lesson_code\n",
    "        self.school_result = result"
   ]
  },
  {
   "cell_type": "markdown",
   "metadata": {},
   "source": [
    "13.8. Хичээл нэртэй классыг хичээлийн нэр, кредит, заадаг багшийн код, заадаг багшийн нэр аттрибуттайгаар үүсгэнэ. Мөн энэ класс нь багш нэртэй классаас удамшсан байна. Багш класс нь багшийн нэр, багшийн код, багшийн зэрэг, цол, багшийн ажилласан жил, багшийн харъяалагдах тэнхим, багшийн харъяалагдах сургууль аттрибуттайгаар үүсгэнэ."
   ]
  },
  {
   "cell_type": "code",
   "execution_count": 8,
   "metadata": {},
   "outputs": [
    {
     "name": "stdout",
     "output_type": "stream",
     "text": [
      "Teacher\n"
     ]
    }
   ],
   "source": [
    "class Teacher:\n",
    "\n",
    "    def __init__(self,  teacher_name:str=None, teacher_code:str=None, teacher_degree:str=None,\n",
    "                        teacher_worked_year:int=None, teacher_department:str=None, teacher_school:str=None) -> None:\n",
    "        self.teacher_name = teacher_name\n",
    "        self.teacher_code = teacher_code\n",
    "        self.teacher_degree = teacher_degree\n",
    "        self.teacher_worked_year = teacher_worked_year\n",
    "        self.teacher_department = teacher_department\n",
    "        self.teacher_school = teacher_school\n",
    "\n",
    "class Lesson(Teacher):\n",
    "\n",
    "    def __init__(self, lesson_name:str=None, kredit_score:int=None, teacher_code:str=None,teacher_name:str=None) -> None:\n",
    "        super().__init__(teacher_name = teacher_name, teacher_code = teacher_code)\n",
    "        self.lesson_name = lesson_name    \n",
    "        self.kredit_score = kredit_score\n",
    "\n",
    "\n",
    "lesson = Lesson(lesson_name='Algorithms', kredit_score=3, teacher_code='P.CS034', teacher_name='Teacher')\n",
    "\n",
    "print(lesson.teacher_name)"
   ]
  },
  {
   "cell_type": "markdown",
   "metadata": {},
   "source": [
    "13.9. Өмнө үүсгэсэн оюутан классыг хичээл нэртэй классаас удамшсан байхаар үүсгэнэ."
   ]
  },
  {
   "cell_type": "code",
   "execution_count": 9,
   "metadata": {},
   "outputs": [
    {
     "name": "stdout",
     "output_type": "stream",
     "text": [
      "P.CS034\n"
     ]
    }
   ],
   "source": [
    "class Teacher:\n",
    "\n",
    "    def __init__(self,  teacher_name:str=None, teacher_code:str=None, teacher_degree:str=None,\n",
    "                        teacher_worked_year:int=None, teacher_department:str=None, teacher_school:str=None) -> None:\n",
    "        self.teacher_name = teacher_name\n",
    "        self.teacher_code = teacher_code\n",
    "        self.teacher_degree = teacher_degree\n",
    "        self.teacher_worked_year = teacher_worked_year\n",
    "        self.teacher_department = teacher_department\n",
    "        self.teacher_school = teacher_school\n",
    "\n",
    "class Lesson(Teacher):\n",
    "\n",
    "    def __init__(self, lesson_name:str=None, lesson_code:str=None, kredit_score:int=None, teacher_code:str=None, teacher_name:str=None) -> None:\n",
    "        super().__init__(teacher_name = teacher_name, teacher_code = teacher_code)\n",
    "        self.lesson_name = lesson_name    \n",
    "        self.kredit_score = kredit_score\n",
    "        self.lesson_code = lesson_code\n",
    "\n",
    "\n",
    "class Student(Lesson):\n",
    "    \n",
    "    def __init__(self, code:str = None, name:str = None, lesson_code:str = None, result:float = None, teacher_code:str=None) -> None:\n",
    "        super().__init__(lesson_code=lesson_code, teacher_code=teacher_code)\n",
    "        self.student_code = code\n",
    "        self.student_name = name\n",
    "        self.school_result = result\n",
    "\n",
    "student = Student(result=96, lesson_code='P.IT101', name='Name', code='Code', teacher_code='P.CS034')\n",
    "\n",
    "print(student.teacher_code)"
   ]
  }
 ],
 "metadata": {
  "kernelspec": {
   "display_name": "Python 3 (ipykernel)",
   "language": "python",
   "name": "python3"
  },
  "language_info": {
   "codemirror_mode": {
    "name": "ipython",
    "version": 3
   },
   "file_extension": ".py",
   "mimetype": "text/x-python",
   "name": "python",
   "nbconvert_exporter": "python",
   "pygments_lexer": "ipython3",
   "version": "3.8.0"
  },
  "vscode": {
   "interpreter": {
    "hash": "916dbcbb3f70747c44a77c7bcd40155683ae19c65e1c03b4aa3499c5328201f1"
   }
  }
 },
 "nbformat": 4,
 "nbformat_minor": 2
}
