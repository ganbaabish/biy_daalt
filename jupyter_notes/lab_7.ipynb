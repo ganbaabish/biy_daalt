{
 "cells": [
  {
   "cell_type": "markdown",
   "metadata": {},
   "source": [
    "Жагсаалт"
   ]
  },
  {
   "cell_type": "markdown",
   "metadata": {},
   "source": [
    "     1.  Жагсаалтын элементүүдийн нийлбэрийг олох програм бич. "
   ]
  },
  {
   "cell_type": "code",
   "execution_count": 1,
   "metadata": {},
   "outputs": [
    {
     "name": "stdout",
     "output_type": "stream",
     "text": [
      "15\n"
     ]
    }
   ],
   "source": [
    "def sum(items:list)->float:\n",
    "    temp = 0\n",
    "    for item in items:\n",
    "        temp+=item\n",
    "    return temp\n",
    "\n",
    "\n",
    "print(sum([1,2,3,4,5]))"
   ]
  },
  {
   "cell_type": "markdown",
   "metadata": {},
   "source": [
    "     2. Жагсаалтын элементүүдийн үржвэрийг олох програм бич"
   ]
  },
  {
   "cell_type": "code",
   "execution_count": 2,
   "metadata": {},
   "outputs": [],
   "source": [
    "def multiple(items:list)->float:\n",
    "    result = 1\n",
    "    for item in items:\n",
    "        result*=item"
   ]
  },
  {
   "cell_type": "markdown",
   "metadata": {},
   "source": [
    "     3. Жагсаалтын элементүүдээс хамгийн ихийг тоог олох програм бич"
   ]
  },
  {
   "cell_type": "code",
   "execution_count": 3,
   "metadata": {},
   "outputs": [
    {
     "name": "stdout",
     "output_type": "stream",
     "text": [
      "5\n"
     ]
    }
   ],
   "source": [
    "def max(items:list)->float:\n",
    "    result = items[0]\n",
    "    for item in items:\n",
    "        if result < item:\n",
    "            result = item\n",
    "    return result\n",
    "\n",
    "print(max([1,2,5,3,2]))"
   ]
  },
  {
   "cell_type": "markdown",
   "metadata": {},
   "source": [
    "     4. Жагсаалтын элементүүдээс хамгийн бага тоог олох програм бич."
   ]
  },
  {
   "cell_type": "code",
   "execution_count": 4,
   "metadata": {},
   "outputs": [
    {
     "name": "stdout",
     "output_type": "stream",
     "text": [
      "1\n"
     ]
    }
   ],
   "source": [
    "def min(items:list)->float:\n",
    "    result = items[0]\n",
    "    for item in items:\n",
    "        if result > item:\n",
    "            result = item\n",
    "    return result\n",
    "\n",
    "print(min([1,2,5,3,2]))"
   ]
  },
  {
   "cell_type": "markdown",
   "metadata": {},
   "source": [
    "     5. Өгөгдсөн жагсаалтаас элементийн урт 2 ба түүнээс дээш, эхний ба сүүлийн тэмдэгт ижил байх элементийн тоог тоолох програм бич."
   ]
  },
  {
   "cell_type": "code",
   "execution_count": 5,
   "metadata": {},
   "outputs": [
    {
     "name": "stdout",
     "output_type": "stream",
     "text": [
      "2\n"
     ]
    }
   ],
   "source": [
    "def count(items:list)->int:\n",
    "    result = 0\n",
    "    for item in items:\n",
    "        length = len(item)\n",
    "        if length>2 and str(item)[0]==str(item)[int(length-1)]:\n",
    "            result+=1\n",
    "    return result\n",
    "print(count(['abc', 'xyz', 'aba', '1221']))"
   ]
  },
  {
   "cell_type": "markdown",
   "metadata": {},
   "source": [
    "     6. Жагсаалтыг хувилдаг програм бич."
   ]
  },
  {
   "cell_type": "code",
   "execution_count": 6,
   "metadata": {},
   "outputs": [
    {
     "name": "stdout",
     "output_type": "stream",
     "text": [
      "['abc', 'xyz', 'aba', '1221']\n"
     ]
    }
   ],
   "source": [
    "def copy(items:list)->list:\n",
    "    result = []\n",
    "    for item in items:\n",
    "        result.append(item)\n",
    "    return result\n",
    "\n",
    "print(copy(['abc', 'xyz', 'aba', '1221']))"
   ]
  },
  {
   "cell_type": "markdown",
   "metadata": {},
   "source": [
    "Тэмдэгт мөр"
   ]
  },
  {
   "cell_type": "markdown",
   "metadata": {},
   "source": [
    "     1. Тэмдэгт мөрийн уртыг тооцоолох програм бич. "
   ]
  },
  {
   "cell_type": "code",
   "execution_count": 7,
   "metadata": {},
   "outputs": [
    {
     "name": "stdout",
     "output_type": "stream",
     "text": [
      "6\n"
     ]
    }
   ],
   "source": [
    "def length(word)->int:\n",
    "    result = 0\n",
    "    for char in word:\n",
    "        result += 1\n",
    "    return result\n",
    "\n",
    "print(length('string'))"
   ]
  },
  {
   "cell_type": "markdown",
   "metadata": {},
   "source": [
    "     2. Тэмдэгт мөр дэх тэмдэгтийн давтамж тоолох програм бич. "
   ]
  },
  {
   "cell_type": "code",
   "execution_count": 8,
   "metadata": {},
   "outputs": [
    {
     "name": "stdout",
     "output_type": "stream",
     "text": [
      "{'g': 2, 'o': 3, 'l': 1, 'e': 1, '.': 1, 'c': 1, 'm': 1}\n"
     ]
    }
   ],
   "source": [
    "def count(word:str)->dict:\n",
    "    result = {}\n",
    "    for char in word:\n",
    "        if char not in result.keys():\n",
    "            result[char] = word.count(char)\n",
    "    return result\n",
    "\n",
    "print(count('google.com'))"
   ]
  },
  {
   "cell_type": "markdown",
   "metadata": {},
   "source": [
    "     3. Өгөгдсөн хоёр тэмдэгт мөрөөр нэг тэмдэгт мөр үүсгэх програм бичээд зайгаар тусгаарлаж мөр бүрийн эхний хоёр тэмдэгтийг солино. "
   ]
  },
  {
   "cell_type": "code",
   "execution_count": 9,
   "metadata": {},
   "outputs": [
    {
     "name": "stdout",
     "output_type": "stream",
     "text": [
      "xyc abz\n"
     ]
    }
   ],
   "source": [
    "def concat(word_1:str, word_2:str)->str:\n",
    "    result = word_2[:2:]+word_1[2::]+' '+word_1[:2:]+word_2[2::]\n",
    "    return result\n",
    "\n",
    "print(concat('abc', 'xyz'))"
   ]
  },
  {
   "cell_type": "markdown",
   "metadata": {},
   "source": [
    "     4. Үгсийн жагсаалтаас хамгийн урт үг болон уртыг нь  буцаадаг програм бичээрэй."
   ]
  },
  {
   "cell_type": "code",
   "execution_count": 10,
   "metadata": {},
   "outputs": [
    {
     "name": "stdout",
     "output_type": "stream",
     "text": [
      "{'word': 'хийгээрэй', 'len': 9}\n"
     ]
    }
   ],
   "source": [
    "def count(text:str)->dict:\n",
    "    items = text.split(' ')\n",
    "    result = {'word':items[0], 'len':len(items[0])}\n",
    "    for item in items:\n",
    "        if len(item) > result['len']:\n",
    "            result = {'word':item, 'len':len(item)}\n",
    "    return result\n",
    "\n",
    "print(count('Дасгалаа хийгээрэй !!!'))"
   ]
  },
  {
   "cell_type": "markdown",
   "metadata": {},
   "source": [
    "     5. Тэмдэгт мөрөөс n-р индекстэй тэмдэгтийг хасах програм бич"
   ]
  },
  {
   "cell_type": "code",
   "execution_count": 11,
   "metadata": {},
   "outputs": [
    {
     "name": "stdout",
     "output_type": "stream",
     "text": [
      "Pyton\n"
     ]
    }
   ],
   "source": [
    "def remove_index(text:str, index:int)->str:\n",
    "    result = text[:index]+text[index+1:]\n",
    "    return result\n",
    "\n",
    "print(remove_index('Python', 3))"
   ]
  },
  {
   "cell_type": "markdown",
   "metadata": {},
   "source": [
    "     6. Өгөгдсөн тэмдэгт мөрийн эхний ба сүүлчийн тэмдэгтийг солидог програм бич."
   ]
  },
  {
   "cell_type": "code",
   "execution_count": 12,
   "metadata": {},
   "outputs": [
    {
     "name": "stdout",
     "output_type": "stream",
     "text": [
      "dbca\n"
     ]
    }
   ],
   "source": [
    "def swap(word:str)->str:\n",
    "    result = word[int(len(word)-1)]+word[1:int(len(word)-1)]+word[0]\n",
    "    return result\n",
    "\n",
    "print(swap('abcd'))"
   ]
  }
 ],
 "metadata": {
  "kernelspec": {
   "display_name": "Python 3 (ipykernel)",
   "language": "python",
   "name": "python3"
  },
  "language_info": {
   "codemirror_mode": {
    "name": "ipython",
    "version": 3
   },
   "file_extension": ".py",
   "mimetype": "text/x-python",
   "name": "python",
   "nbconvert_exporter": "python",
   "pygments_lexer": "ipython3",
   "version": "3.8.0"
  },
  "vscode": {
   "interpreter": {
    "hash": "438727c8858bc46e257ba69863512eb04c8e9f5db9a1c7102296af502b4092eb"
   }
  }
 },
 "nbformat": 4,
 "nbformat_minor": 2
}
